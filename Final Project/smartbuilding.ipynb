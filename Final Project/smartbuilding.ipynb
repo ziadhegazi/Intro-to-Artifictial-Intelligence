{
 "cells": [
  {
   "cell_type": "markdown",
   "metadata": {},
   "source": [
    "# Final Project"
   ]
  },
  {
   "cell_type": "code",
   "execution_count": 13,
   "metadata": {},
   "outputs": [],
   "source": [
    "import numpy as np\n",
    "import pandas as pd\n",
    "import matplotlib.pyplot as plt\n",
    "import seaborn as sns\n",
    "\n",
    "from pathlib import Path"
   ]
  },
  {
   "cell_type": "code",
   "execution_count": 14,
   "metadata": {},
   "outputs": [],
   "source": [
    "paths = list(Path(\"Smart Building\").rglob(\"*.*\"))\n",
    "\n",
    "co2_paths = [path for path in paths if path.name == 'co2.csv']\n",
    "humidity_paths = [path for path in paths if path.name == 'humidity.csv']\n",
    "temperature_paths = [path for path in paths if path.name == 'temperature.csv']\n",
    "light_paths = [path for path in paths if path.name == 'light.csv']\n",
    "pir_paths = [path for path in paths if path.name == 'pir.csv']"
   ]
  },
  {
   "cell_type": "code",
   "execution_count": 15,
   "metadata": {},
   "outputs": [
    {
     "data": {
      "text/html": [
       "<div>\n",
       "<style scoped>\n",
       "    .dataframe tbody tr th:only-of-type {\n",
       "        vertical-align: middle;\n",
       "    }\n",
       "\n",
       "    .dataframe tbody tr th {\n",
       "        vertical-align: top;\n",
       "    }\n",
       "\n",
       "    .dataframe thead th {\n",
       "        text-align: right;\n",
       "    }\n",
       "</style>\n",
       "<table border=\"1\" class=\"dataframe\">\n",
       "  <thead>\n",
       "    <tr style=\"text-align: right;\">\n",
       "      <th></th>\n",
       "      <th>light</th>\n",
       "      <th>temperature</th>\n",
       "      <th>co2</th>\n",
       "      <th>pir</th>\n",
       "      <th>humidity</th>\n",
       "      <th>room</th>\n",
       "    </tr>\n",
       "    <tr>\n",
       "      <th>unix_time</th>\n",
       "      <th></th>\n",
       "      <th></th>\n",
       "      <th></th>\n",
       "      <th></th>\n",
       "      <th></th>\n",
       "      <th></th>\n",
       "    </tr>\n",
       "  </thead>\n",
       "  <tbody>\n",
       "    <tr>\n",
       "      <th>1377299107</th>\n",
       "      <td>97.0</td>\n",
       "      <td>23.93</td>\n",
       "      <td>488.0</td>\n",
       "      <td>NaN</td>\n",
       "      <td>45.34</td>\n",
       "      <td>413</td>\n",
       "    </tr>\n",
       "    <tr>\n",
       "      <th>1377299108</th>\n",
       "      <td>97.0</td>\n",
       "      <td>23.94</td>\n",
       "      <td>495.0</td>\n",
       "      <td>0.0</td>\n",
       "      <td>45.34</td>\n",
       "      <td>413</td>\n",
       "    </tr>\n",
       "    <tr>\n",
       "      <th>1377299126</th>\n",
       "      <td>97.0</td>\n",
       "      <td>23.93</td>\n",
       "      <td>NaN</td>\n",
       "      <td>0.0</td>\n",
       "      <td>45.34</td>\n",
       "      <td>413</td>\n",
       "    </tr>\n",
       "    <tr>\n",
       "      <th>1377299131</th>\n",
       "      <td>97.0</td>\n",
       "      <td>23.93</td>\n",
       "      <td>NaN</td>\n",
       "      <td>NaN</td>\n",
       "      <td>45.31</td>\n",
       "      <td>413</td>\n",
       "    </tr>\n",
       "    <tr>\n",
       "      <th>1377299136</th>\n",
       "      <td>97.0</td>\n",
       "      <td>23.92</td>\n",
       "      <td>NaN</td>\n",
       "      <td>NaN</td>\n",
       "      <td>45.34</td>\n",
       "      <td>413</td>\n",
       "    </tr>\n",
       "  </tbody>\n",
       "</table>\n",
       "</div>"
      ],
      "text/plain": [
       "            light  temperature    co2  pir  humidity room\n",
       "unix_time                                                \n",
       "1377299107   97.0        23.93  488.0  NaN     45.34  413\n",
       "1377299108   97.0        23.94  495.0  0.0     45.34  413\n",
       "1377299126   97.0        23.93    NaN  0.0     45.34  413\n",
       "1377299131   97.0        23.93    NaN  NaN     45.31  413\n",
       "1377299136   97.0        23.92    NaN  NaN     45.34  413"
      ]
     },
     "execution_count": 15,
     "metadata": {},
     "output_type": "execute_result"
    }
   ],
   "source": [
    "dataset = []\n",
    "for light_path, temperature_path, co2_path, pir_path, humidity_path in zip(light_paths, temperature_paths, co2_paths, pir_paths, humidity_paths):\n",
    "    light_df = pd.read_csv(light_path, names=['unix_time', 'light'], index_col='unix_time')\n",
    "    temperature_df = pd.read_csv(temperature_path, names=['unix_time', 'temperature'], index_col='unix_time')\n",
    "    co2_df = pd.read_csv(co2_path, names=['unix_time', 'co2'], index_col='unix_time')\n",
    "    humidity_df = pd.read_csv(humidity_path, names=['unix_time', 'humidity'], index_col='unix_time')\n",
    "    pir_df = pd.read_csv(pir_path, names=['unix_time', 'pir'], index_col='unix_time')\n",
    "    \n",
    "    df = pd.concat([light_df, temperature_df, co2_df, pir_df, humidity_df], axis=1)\n",
    "    df['room'] = light_path.parent.name\n",
    "    dataset.append(df)\n",
    "data = pd.concat(dataset)\n",
    "\n",
    "data.head()"
   ]
  },
  {
   "cell_type": "code",
   "execution_count": 16,
   "metadata": {},
   "outputs": [
    {
     "name": "stdout",
     "output_type": "stream",
     "text": [
      "Percentage of data missing\n"
     ]
    },
    {
     "data": {
      "text/plain": [
       "pir            75.010129\n",
       "light          54.306578\n",
       "humidity       54.306564\n",
       "temperature    54.306286\n",
       "co2            54.288882\n",
       "room            0.000000\n",
       "dtype: float64"
      ]
     },
     "execution_count": 16,
     "metadata": {},
     "output_type": "execute_result"
    }
   ],
   "source": [
    "print(\"Percentage of data missing\")\n",
    "data.isnull().sum().sort_values(ascending = False)/len(data)*100"
   ]
  },
  {
   "cell_type": "code",
   "execution_count": 17,
   "metadata": {},
   "outputs": [
    {
     "data": {
      "text/html": [
       "<div>\n",
       "<style scoped>\n",
       "    .dataframe tbody tr th:only-of-type {\n",
       "        vertical-align: middle;\n",
       "    }\n",
       "\n",
       "    .dataframe tbody tr th {\n",
       "        vertical-align: top;\n",
       "    }\n",
       "\n",
       "    .dataframe thead th {\n",
       "        text-align: right;\n",
       "    }\n",
       "</style>\n",
       "<table border=\"1\" class=\"dataframe\">\n",
       "  <thead>\n",
       "    <tr style=\"text-align: right;\">\n",
       "      <th></th>\n",
       "      <th>light</th>\n",
       "      <th>temperature</th>\n",
       "      <th>co2</th>\n",
       "      <th>pir</th>\n",
       "      <th>humidity</th>\n",
       "      <th>room</th>\n",
       "    </tr>\n",
       "    <tr>\n",
       "      <th>unix_time</th>\n",
       "      <th></th>\n",
       "      <th></th>\n",
       "      <th></th>\n",
       "      <th></th>\n",
       "      <th></th>\n",
       "      <th></th>\n",
       "    </tr>\n",
       "  </thead>\n",
       "  <tbody>\n",
       "    <tr>\n",
       "      <th>1377299108</th>\n",
       "      <td>97.0</td>\n",
       "      <td>23.94</td>\n",
       "      <td>495.0</td>\n",
       "      <td>0.0</td>\n",
       "      <td>45.34</td>\n",
       "      <td>413</td>\n",
       "    </tr>\n",
       "    <tr>\n",
       "      <th>1377457084</th>\n",
       "      <td>103.0</td>\n",
       "      <td>23.48</td>\n",
       "      <td>459.0</td>\n",
       "      <td>0.0</td>\n",
       "      <td>52.75</td>\n",
       "      <td>413</td>\n",
       "    </tr>\n",
       "    <tr>\n",
       "      <th>1377457963</th>\n",
       "      <td>104.0</td>\n",
       "      <td>23.50</td>\n",
       "      <td>456.0</td>\n",
       "      <td>0.0</td>\n",
       "      <td>52.71</td>\n",
       "      <td>413</td>\n",
       "    </tr>\n",
       "    <tr>\n",
       "      <th>1377462175</th>\n",
       "      <td>105.0</td>\n",
       "      <td>23.54</td>\n",
       "      <td>446.0</td>\n",
       "      <td>0.0</td>\n",
       "      <td>52.43</td>\n",
       "      <td>413</td>\n",
       "    </tr>\n",
       "    <tr>\n",
       "      <th>1377464765</th>\n",
       "      <td>111.0</td>\n",
       "      <td>23.56</td>\n",
       "      <td>463.0</td>\n",
       "      <td>0.0</td>\n",
       "      <td>52.30</td>\n",
       "      <td>413</td>\n",
       "    </tr>\n",
       "    <tr>\n",
       "      <th>1377467333</th>\n",
       "      <td>159.0</td>\n",
       "      <td>23.65</td>\n",
       "      <td>458.0</td>\n",
       "      <td>0.0</td>\n",
       "      <td>52.21</td>\n",
       "      <td>413</td>\n",
       "    </tr>\n",
       "    <tr>\n",
       "      <th>1377470795</th>\n",
       "      <td>162.0</td>\n",
       "      <td>23.93</td>\n",
       "      <td>473.0</td>\n",
       "      <td>0.0</td>\n",
       "      <td>51.76</td>\n",
       "      <td>413</td>\n",
       "    </tr>\n",
       "    <tr>\n",
       "      <th>1377475133</th>\n",
       "      <td>182.0</td>\n",
       "      <td>24.36</td>\n",
       "      <td>455.0</td>\n",
       "      <td>0.0</td>\n",
       "      <td>50.83</td>\n",
       "      <td>413</td>\n",
       "    </tr>\n",
       "    <tr>\n",
       "      <th>1377478615</th>\n",
       "      <td>225.0</td>\n",
       "      <td>24.75</td>\n",
       "      <td>456.0</td>\n",
       "      <td>0.0</td>\n",
       "      <td>49.87</td>\n",
       "      <td>413</td>\n",
       "    </tr>\n",
       "    <tr>\n",
       "      <th>1377481225</th>\n",
       "      <td>247.0</td>\n",
       "      <td>25.21</td>\n",
       "      <td>458.0</td>\n",
       "      <td>0.0</td>\n",
       "      <td>48.45</td>\n",
       "      <td>413</td>\n",
       "    </tr>\n",
       "  </tbody>\n",
       "</table>\n",
       "</div>"
      ],
      "text/plain": [
       "            light  temperature    co2  pir  humidity room\n",
       "unix_time                                                \n",
       "1377299108   97.0        23.94  495.0  0.0     45.34  413\n",
       "1377457084  103.0        23.48  459.0  0.0     52.75  413\n",
       "1377457963  104.0        23.50  456.0  0.0     52.71  413\n",
       "1377462175  105.0        23.54  446.0  0.0     52.43  413\n",
       "1377464765  111.0        23.56  463.0  0.0     52.30  413\n",
       "1377467333  159.0        23.65  458.0  0.0     52.21  413\n",
       "1377470795  162.0        23.93  473.0  0.0     51.76  413\n",
       "1377475133  182.0        24.36  455.0  0.0     50.83  413\n",
       "1377478615  225.0        24.75  456.0  0.0     49.87  413\n",
       "1377481225  247.0        25.21  458.0  0.0     48.45  413"
      ]
     },
     "execution_count": 17,
     "metadata": {},
     "output_type": "execute_result"
    }
   ],
   "source": [
    "data = data.dropna()\n",
    "data.head(10)"
   ]
  },
  {
   "cell_type": "code",
   "execution_count": 18,
   "metadata": {},
   "outputs": [
    {
     "data": {
      "text/plain": [
       "(135386, 6)"
      ]
     },
     "execution_count": 18,
     "metadata": {},
     "output_type": "execute_result"
    }
   ],
   "source": [
    "data.shape"
   ]
  },
  {
   "cell_type": "code",
   "execution_count": 19,
   "metadata": {},
   "outputs": [
    {
     "name": "stdout",
     "output_type": "stream",
     "text": [
      "Percentage of data missing\n"
     ]
    },
    {
     "data": {
      "text/plain": [
       "light          0.0\n",
       "temperature    0.0\n",
       "co2            0.0\n",
       "pir            0.0\n",
       "humidity       0.0\n",
       "room           0.0\n",
       "dtype: float64"
      ]
     },
     "execution_count": 19,
     "metadata": {},
     "output_type": "execute_result"
    }
   ],
   "source": [
    "print(\"Percentage of data missing\")\n",
    "data.isnull().sum().sort_values(ascending = False)/len(data)*100"
   ]
  },
  {
   "cell_type": "code",
   "execution_count": 30,
   "metadata": {},
   "outputs": [
    {
     "data": {
      "text/plain": [
       "count    135386.000000\n",
       "mean          0.067193\n",
       "std           0.250357\n",
       "min           0.000000\n",
       "25%           0.000000\n",
       "50%           0.000000\n",
       "75%           0.000000\n",
       "max           1.000000\n",
       "Name: pir, dtype: float64"
      ]
     },
     "execution_count": 30,
     "metadata": {},
     "output_type": "execute_result"
    }
   ],
   "source": [
    "data[\"pir\"] = data[\"pir\"].apply(lambda x: 0 if x == 0 else 1)\n",
    "\n",
    "data[\"pir\"].describe()"
   ]
  },
  {
   "cell_type": "code",
   "execution_count": 38,
   "metadata": {},
   "outputs": [
    {
     "name": "stdout",
     "output_type": "stream",
     "text": [
      "these rows will be dropped due to their outlier values: [1377565933, 1377566749, 1377569232, 1377570100, 1377570980, 1377571831, 1377825332, 1377826051, 1377826790, 1377828271, 1377829722, 1377907298, 1377908778, 1377911741, 1377912482, 1377914707, 1377468186, 1377476867, 1377549110, 1377792765, 1377792784, 1377793026, 1377819493, 1377882264, 1377894165, 1377938996, 1377941956, 1377565101, 1377446023, 1377457084, 1377457963, 1377466494, 1377467333, 1377470795, 1377472562, 1377474292, 1377475133, 1377478615, 1377481225, 1377517891, 1377598134, 1377602415, 1377603263, 1377605765, 1377940477, 1377942706, 1377944234, 1377944985, 1377946426, 1377947146, 1377948619, 1377949374, 1377950096, 1377952225, 1377952964, 1377955245, 1377955947, 1377956605, 1377958033, 1377958773, 1377961742, 1377962473, 1377963195, 1377964586, 1377965997, 1377967463, 1377970451, 1377479518, 1377480371, 1377482891, 1377564289, 1377568425, 1377822463, 1377908023, 1377910263, 1377910985, 1377913194, 1377913916, 1377462175, 1377463039, 1377465620, 1377531671, 1377533394, 1377534257, 1377535974, 1377537695, 1377538570, 1377542369, 1377543181, 1377543974, 1377544774, 1377549968, 1377554286, 1377558445, 1377561802, 1377567607, 1377613765, 1377615453, 1377616290, 1377619607, 1377620464, 1377620794, 1377621336, 1377622236, 1377622741, 1377623983, 1377624837, 1377625703, 1377626528, 1377645782, 1377782723, 1377789313, 1377792716, 1377792740, 1377792745, 1377792805, 1377792821, 1377792832, 1377792852, 1377792911, 1377792927, 1377792948, 1377793001, 1377793048, 1377793065, 1377793084, 1377793098, 1377793109, 1377793127, 1377793163, 1377793232, 1377793257, 1377793286, 1377793304, 1377793331, 1377793336, 1377793359, 1377793376, 1377793399, 1377793411, 1377793429, 1377793467, 1377793481, 1377793497, 1377793511, 1377793522, 1377793532, 1377793567, 1377793584, 1377793629, 1377798137, 1377799642, 1377801142, 1377803335, 1377807731, 1377812921, 1377813651, 1377816607, 1377818040, 1377820950, 1377821707, 1377872499, 1377876824, 1377878390, 1377885274, 1377887445, 1377890430, 1377891940, 1377894929, 1377897128, 1377899974, 1377901391, 1377903654, 1377904374, 1377608925, 1377609758, 1377612935, 1377617916, 1377968205, 1377971180, 1377972650, 1377812187, 1377804827, 1377805464, 1377805484, 1377806312, 1377809935, 1377815892, 1377824624, 1377892689, 1377893429, 1377896418, 1377898553, 1377905829, 1377299126, 1377299130, 1377464765, 1377469057, 1377469916, 1377471668, 1377473427, 1377551732, 1377553426, 1377555131, 1377556826, 1377560106, 1377560218, 1377560941, 1377815173, 1377888938, 1377889699, 1377895710, 1377973409, 1377899258, 1377905102, 1377376386, 1377547386, 1377562652, 1377614630, 1377614719, 1377900675, 1377527505, 1377530794, 1377604931, 1377608070, 1377611380, 1377623111, 1377875264, 1377563476, 1377827527, 1377902920, 1377446852, 1377532539, 1377536825, 1377539437, 1377548228, 1377550860, 1377552561, 1377555988, 1377557649, 1377559251, 1377618767, 1377792710, 1377792798, 1377792869, 1377792883, 1377793040, 1377793090, 1377793347, 1377793452, 1377793460, 1377793562, 1377809162, 1377811453, 1377876042, 1377879169, 1377884516, 1377886742, 1377895229, 1377888183, 1377891185, 1377897835, 1377541420, 1377546454, 1377823901, 1377881529, 1377882998, 1377535130, 1377545586, 1377792965, 1377880747, 1377886024, 1377965288, 1377540469, 1377817328, 1377906563, 1377461330, 1377960968, 1377802579] \n"
     ]
    }
   ],
   "source": [
    "from collections import Counter\n",
    "\n",
    "\n",
    "def detectOutliers(data, n, features):\n",
    "    outlier_rows = []\n",
    "    for col in features:\n",
    "        Q1 = np.percentile(data[col], 25)\n",
    "        Q3 = np.percentile(data[col], 75)\n",
    "        IQR = Q3 - Q1\n",
    "        outlierStep = IQR * 1.5\n",
    "        outlierList = data[(data[col] < Q1 - outlierStep ) | (data[col] > Q3 + outlierStep)].index\n",
    "        outlier_rows.extend(outlierList)\n",
    "    # Counts the frequency of occurrences of each row index\n",
    "    outlier_rows = Counter(outlier_rows)\n",
    "    multiple_outliers = list(key for key, value in outlier_rows.items() if value > n)\n",
    "    return multiple_outliers\n",
    "\n",
    "outliers_to_drop = detectOutliers(data, 5, [\"temperature\", \"light\", \"humidity\", \"co2\"])\n",
    "print(\"these rows will be dropped due to their outlier values: {} \".format(outliers_to_drop))"
   ]
  },
  {
   "cell_type": "code",
   "execution_count": 39,
   "metadata": {},
   "outputs": [
    {
     "name": "stdout",
     "output_type": "stream",
     "text": [
      "Before removing the outliers we have 135386 rows\n",
      "After removing the outliers we have 128262 rows\n"
     ]
    }
   ],
   "source": [
    "print(\"Before removing the outliers we have {} rows\".format(len(data)))\n",
    "data = data.drop(outliers_to_drop, axis=0).reset_index(drop=True)\n",
    "print(\"After removing the outliers we have {} rows\".format(len(data)))"
   ]
  },
  {
   "cell_type": "code",
   "execution_count": 27,
   "metadata": {},
   "outputs": [
    {
     "data": {
      "text/plain": [
       "datetime.datetime(2013, 8, 24, 1, 5, 8)"
      ]
     },
     "execution_count": 27,
     "metadata": {},
     "output_type": "execute_result"
    }
   ],
   "source": [
    "import datetime\n",
    "\n",
    "\n",
    "datetime = datetime.datetime.fromtimestamp(1377299108)\n",
    "datetime"
   ]
  }
 ],
 "metadata": {
  "kernelspec": {
   "display_name": "Python 3.9.12 ('base')",
   "language": "python",
   "name": "python3"
  },
  "language_info": {
   "codemirror_mode": {
    "name": "ipython",
    "version": 3
   },
   "file_extension": ".py",
   "mimetype": "text/x-python",
   "name": "python",
   "nbconvert_exporter": "python",
   "pygments_lexer": "ipython3",
   "version": "3.9.12"
  },
  "orig_nbformat": 4,
  "vscode": {
   "interpreter": {
    "hash": "f28bfb4324f669a89cc099f355fc57127f6b173621f9e30f28a12375bb1be415"
   }
  }
 },
 "nbformat": 4,
 "nbformat_minor": 2
}
